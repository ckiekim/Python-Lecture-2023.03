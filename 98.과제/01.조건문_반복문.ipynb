{
 "cells": [
  {
   "cell_type": "code",
   "execution_count": 4,
   "metadata": {},
   "outputs": [
    {
     "name": "stdout",
     "output_type": "stream",
     "text": [
      "23:40\n"
     ]
    }
   ],
   "source": [
    "# 1. 알람시계\n",
    "hour, minute = map(int, input().split())\n",
    "if minute >= 45:\n",
    "    newHour = hour\n",
    "    newMin = minute - 45\n",
    "else:\n",
    "    newHour = (hour + 24 - 1) % 24\n",
    "    newMin = minute + 60 - 45\n",
    "print(f'{newHour:02d}:{newMin:02d}')"
   ]
  },
  {
   "cell_type": "code",
   "execution_count": 9,
   "metadata": {},
   "outputs": [
    {
     "name": "stdout",
     "output_type": "stream",
     "text": [
      "600\n"
     ]
    }
   ],
   "source": [
    "# 2. 주사위\n",
    "dice1, dice2, dice3 = map(int, input().split())\n",
    "if dice1 == dice2 == dice3:\n",
    "    prize = 10000 + dice1 * 1000\n",
    "elif dice1 == dice2 or dice1 == dice3:\n",
    "    prize = 1000 + dice1 * 100\n",
    "elif dice2 == dice3:\n",
    "    prize = 1000 + dice2 * 100\n",
    "else:\n",
    "    maxVal = max([dice1, dice2, dice3])\n",
    "    prize = maxVal * 100\n",
    "print(prize)"
   ]
  },
  {
   "cell_type": "code",
   "execution_count": 10,
   "metadata": {},
   "outputs": [
    {
     "name": "stdout",
     "output_type": "stream",
     "text": [
      "28\n"
     ]
    }
   ],
   "source": [
    "# 3. 완전수(Perfect Number)\n",
    "# 자기 자신을 제외한 약수의 합\n",
    "num = 28\n",
    "divSum = 0\n",
    "for i in range(1, num):\n",
    "    if num % i == 0:\n",
    "        divSum += i\n",
    "print(divSum)"
   ]
  },
  {
   "cell_type": "code",
   "execution_count": 11,
   "metadata": {},
   "outputs": [
    {
     "name": "stdout",
     "output_type": "stream",
     "text": [
      "6\n",
      "28\n",
      "496\n",
      "8128\n"
     ]
    }
   ],
   "source": [
    "for num in range(2, 10001):\n",
    "    divSum = 0\n",
    "    for i in range(1, num):\n",
    "        if num % i == 0:\n",
    "            divSum += i\n",
    "    if num == divSum:           # 완전수 조건\n",
    "        print(num)"
   ]
  },
  {
   "cell_type": "code",
   "execution_count": 12,
   "metadata": {},
   "outputs": [
    {
     "name": "stdout",
     "output_type": "stream",
     "text": [
      "200 375 425\n",
      "375 200 425\n"
     ]
    }
   ],
   "source": [
    "# 4. a + b + c = 1000을 만족하는 피타고라스 수 (단, a < b < c)\n",
    "for a in range(1, 1001):\n",
    "    for b in range(1, 1001):\n",
    "        c = 1000 - a - b\n",
    "        if a*a + b*b == c*c:\n",
    "            print(a, b, c)\n",
    "            break"
   ]
  },
  {
   "cell_type": "code",
   "execution_count": 13,
   "metadata": {},
   "outputs": [
    {
     "name": "stdout",
     "output_type": "stream",
     "text": [
      "200 375 425\n"
     ]
    }
   ],
   "source": [
    "# a < b 조건\n",
    "for a in range(1, 1001):\n",
    "    for b in range(a+1, 1001):\n",
    "        c = 1000 - a - b\n",
    "        if a*a + b*b == c*c:\n",
    "            print(a, b, c)\n",
    "            break"
   ]
  },
  {
   "cell_type": "code",
   "execution_count": 14,
   "metadata": {},
   "outputs": [
    {
     "name": "stdout",
     "output_type": "stream",
     "text": [
      "200 375 425\n"
     ]
    }
   ],
   "source": [
    "# a < b < c 조건과 a + b + c = 1000에서 a, b 값의 범위 유추\n",
    "for a in range(1, 333):\n",
    "    for b in range(a+1, 500):\n",
    "        c = 1000 - a - b\n",
    "        if a*a + b*b == c*c:\n",
    "            print(a, b, c)\n",
    "            break"
   ]
  },
  {
   "cell_type": "code",
   "execution_count": null,
   "metadata": {},
   "outputs": [],
   "source": []
  }
 ],
 "metadata": {
  "kernelspec": {
   "display_name": "base",
   "language": "python",
   "name": "python3"
  },
  "language_info": {
   "codemirror_mode": {
    "name": "ipython",
    "version": 3
   },
   "file_extension": ".py",
   "mimetype": "text/x-python",
   "name": "python",
   "nbconvert_exporter": "python",
   "pygments_lexer": "ipython3",
   "version": "3.10.9"
  },
  "orig_nbformat": 4
 },
 "nbformat": 4,
 "nbformat_minor": 2
}
