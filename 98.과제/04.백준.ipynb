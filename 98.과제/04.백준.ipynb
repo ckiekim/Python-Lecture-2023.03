{
 "cells": [
  {
   "attachments": {},
   "cell_type": "markdown",
   "metadata": {},
   "source": [
    "### 1181. 단어정렬"
   ]
  },
  {
   "cell_type": "code",
   "execution_count": 1,
   "metadata": {},
   "outputs": [],
   "source": [
    "# Step 1. 빈 word_dict 만들기\n",
    "word_dict = {key: set() for key in range(1, 51)}"
   ]
  },
  {
   "cell_type": "code",
   "execution_count": 2,
   "metadata": {},
   "outputs": [],
   "source": [
    "# Step 2. 단어 읽으면서 word_dict에 채워넣기\n",
    "num = int(input('읽을 단어의 갯수> '))\n",
    "for _ in range(num):\n",
    "    word = input()\n",
    "    word_dict[len(word)].add(word)"
   ]
  },
  {
   "cell_type": "code",
   "execution_count": 7,
   "metadata": {},
   "outputs": [
    {
     "name": "stdout",
     "output_type": "stream",
     "text": [
      "{'a'}\n",
      "{'dog', 'the', 'fox'}\n",
      "{'lazy', 'over'}\n",
      "{'brown', 'quick', 'jumps'}\n"
     ]
    }
   ],
   "source": [
    "for key in range(1, 51):\n",
    "    if len(word_dict[key]) == 0:\n",
    "        continue\n",
    "    print(word_dict[key])"
   ]
  },
  {
   "cell_type": "code",
   "execution_count": 8,
   "metadata": {},
   "outputs": [
    {
     "name": "stdout",
     "output_type": "stream",
     "text": [
      "a\n",
      "dog\n",
      "fox\n",
      "the\n",
      "lazy\n",
      "over\n",
      "brown\n",
      "jumps\n",
      "quick\n"
     ]
    }
   ],
   "source": [
    "# Step 3. 주어진 순서대로 출력하기\n",
    "for key in range(1, 51):\n",
    "    if len(word_dict[key]) == 0:\n",
    "        continue\n",
    "    for word in sorted(word_dict[key]):\n",
    "        print(word)"
   ]
  },
  {
   "attachments": {},
   "cell_type": "markdown",
   "metadata": {},
   "source": [
    "### 2231. 분해합"
   ]
  },
  {
   "cell_type": "code",
   "execution_count": 9,
   "metadata": {},
   "outputs": [],
   "source": [
    "# 분해합을 반환하는 함수\n",
    "def sum_of_decomposition(num):\n",
    "    numStr = str(num)\n",
    "    result = num\n",
    "    for i in range(len(numStr)):\n",
    "        result += int(numStr[i])\n",
    "    return result"
   ]
  },
  {
   "cell_type": "code",
   "execution_count": 10,
   "metadata": {},
   "outputs": [
    {
     "data": {
      "text/plain": [
       "216"
      ]
     },
     "execution_count": 10,
     "metadata": {},
     "output_type": "execute_result"
    }
   ],
   "source": [
    "sum_of_decomposition(198)"
   ]
  },
  {
   "cell_type": "code",
   "execution_count": 14,
   "metadata": {},
   "outputs": [
    {
     "name": "stdout",
     "output_type": "stream",
     "text": [
      "456의 최소 생성자는 444\n"
     ]
    }
   ],
   "source": [
    "num = int(input())\n",
    "for i in range(num - 9 * len(str(num)), num):\n",
    "    if sum_of_decomposition(i) == num:\n",
    "        print(f'{num}의 최소 생성자는 {i}')\n",
    "        break"
   ]
  },
  {
   "attachments": {},
   "cell_type": "markdown",
   "metadata": {},
   "source": [
    "### 2839. 설탕 배달"
   ]
  },
  {
   "cell_type": "code",
   "execution_count": 17,
   "metadata": {},
   "outputs": [
    {
     "name": "stdout",
     "output_type": "stream",
     "text": [
      "234kg: 5kg 봉지 45개, 3kg 봉지 3개\n"
     ]
    }
   ],
   "source": [
    "num = int(input())\n",
    "\n",
    "num5, num3 = 0, 0\n",
    "try:\n",
    "    for i in range(num // 5, num // 3 + 1):\n",
    "        for k in range(i + 1):\n",
    "            if num == 3 * k + 5 * (i - k):\n",
    "                num5 = i - k\n",
    "                num3 = k\n",
    "                raise Exception\n",
    "except:\n",
    "    print(f'{num}kg: 5kg 봉지 {num5}개, 3kg 봉지 {num3}개')\n",
    "else:\n",
    "    print(-1)"
   ]
  },
  {
   "attachments": {},
   "cell_type": "markdown",
   "metadata": {},
   "source": [
    "### 3003. King, Queen, Rook, Bishop, Knight, Pawn"
   ]
  },
  {
   "cell_type": "code",
   "execution_count": 18,
   "metadata": {},
   "outputs": [],
   "source": [
    "chess_pieces = [1, 1, 2, 2, 2, 8]\n",
    "chess_names = 'King Queen Rook Bishop Knight Pawn'.split()"
   ]
  },
  {
   "cell_type": "code",
   "execution_count": 20,
   "metadata": {},
   "outputs": [
    {
     "name": "stdout",
     "output_type": "stream",
     "text": [
      "1 0 0 -1 0 1 \n"
     ]
    }
   ],
   "source": [
    "\"\"\" k, q, r, b, k, p = map(int, input().split())\n",
    "pieces = [k, q, r, b, k, p] \"\"\"\n",
    "pieces = list(map(int, input().split()))\n",
    "for i in range(len(pieces)):\n",
    "    print(chess_pieces[i] - pieces[i], end=' ')\n",
    "print()"
   ]
  },
  {
   "attachments": {},
   "cell_type": "markdown",
   "metadata": {},
   "source": [
    "### 4344. 평균은 넘겠지"
   ]
  },
  {
   "cell_type": "code",
   "execution_count": 28,
   "metadata": {},
   "outputs": [],
   "source": [
    "def above_average(score_list):\n",
    "    avg = sum(score_list) / len(score_list)\n",
    "    \"\"\" count = 0\n",
    "    for score in score_list:\n",
    "        if score > avg:\n",
    "            count += 1 \"\"\"\n",
    "    count = sum(map(lambda x: x > avg, score_list))\n",
    "    print(round((count / len(score_list) * 100), 3), '%')"
   ]
  },
  {
   "cell_type": "code",
   "execution_count": 31,
   "metadata": {},
   "outputs": [
    {
     "name": "stdout",
     "output_type": "stream",
     "text": [
      "40.0 %\n"
     ]
    }
   ],
   "source": [
    "above_average([50, 50, 70, 80, 100])"
   ]
  },
  {
   "cell_type": "code",
   "execution_count": 25,
   "metadata": {},
   "outputs": [
    {
     "name": "stdout",
     "output_type": "stream",
     "text": [
      "40.0 %\n",
      "57.143 %\n",
      "33.333 %\n",
      "66.667 %\n",
      "55.556 %\n"
     ]
    }
   ],
   "source": [
    "num = int(input())\n",
    "for i in range(num):\n",
    "    scores = list(map(int, input().split()))[1:]        # 5 50 50 70 80 100\n",
    "    above_average(scores)"
   ]
  },
  {
   "attachments": {},
   "cell_type": "markdown",
   "metadata": {},
   "source": [
    "### 11720. 숫자의 합"
   ]
  },
  {
   "cell_type": "code",
   "execution_count": 32,
   "metadata": {},
   "outputs": [
    {
     "name": "stdout",
     "output_type": "stream",
     "text": [
      "숫자 54321의 각자리수의 합은 15\n"
     ]
    }
   ],
   "source": [
    "num = int(input())\n",
    "s = input()\n",
    "sum_of_digit = 0\n",
    "for i in range(len(s)):\n",
    "    sum_of_digit += int(s[i])\n",
    "\n",
    "print(f'숫자 {s}의 각 자리수의 합은 {sum_of_digit}')"
   ]
  },
  {
   "attachments": {},
   "cell_type": "markdown",
   "metadata": {},
   "source": [
    "### 19532. 수학은 비대면강의입니다.(연립방정식)"
   ]
  },
  {
   "cell_type": "code",
   "execution_count": 34,
   "metadata": {},
   "outputs": [
    {
     "name": "stdout",
     "output_type": "stream",
     "text": [
      "2 -1\n"
     ]
    }
   ],
   "source": [
    "a, b, c, d, e, f = map(int, input().split())\n",
    "\n",
    "try:\n",
    "    for x in range(-999, 1000):\n",
    "        for y in range(-999, 1000):\n",
    "            if a*x + b*y == c and d*x + e*y == f:\n",
    "                print(x, y)\n",
    "                raise Exception\n",
    "except:\n",
    "    pass"
   ]
  },
  {
   "attachments": {},
   "cell_type": "markdown",
   "metadata": {},
   "source": [
    "### 25206. 너의 평점은"
   ]
  },
  {
   "cell_type": "code",
   "execution_count": 35,
   "metadata": {},
   "outputs": [],
   "source": [
    "scores = '''\n",
    "ObjectOrientedProgramming1 3.0 A+\n",
    "IntroductiontoComputerEngineering 3.0 A+\n",
    "ObjectOrientedProgramming2 3.0 A0\n",
    "CreativeComputerEngineeringDesign 3.0 A+\n",
    "AssemblyLanguage 3.0 A+\n",
    "InternetProgramming 3.0 B0\n",
    "ApplicationProgramminginJava 3.0 A0\n",
    "SystemProgramming 3.0 B0\n",
    "OperatingSystem 3.0 B0\n",
    "WirelessCommunicationsandNetworking 3.0 C+\n",
    "LogicCircuits 3.0 B0\n",
    "DataStructure 4.0 A+\n",
    "MicroprocessorApplication 3.0 B+\n",
    "EmbeddedSoftware 3.0 C0\n",
    "ComputerSecurity 3.0 D+\n",
    "Database 3.0 C+\n",
    "Algorithm 3.0 B0\n",
    "CapstoneDesigninCSE 3.0 B+\n",
    "CompilerDesign 3.0 D0\n",
    "ProblemSolving 4.0 P\n",
    "'''"
   ]
  },
  {
   "cell_type": "code",
   "execution_count": 36,
   "metadata": {},
   "outputs": [
    {
     "data": {
      "text/plain": [
       "{'A+': 4.5,\n",
       " 'A0': 4.0,\n",
       " 'B+': 3.5,\n",
       " 'B0': 3.0,\n",
       " 'C+': 2.5,\n",
       " 'C0': 2.0,\n",
       " 'D+': 1.5,\n",
       " 'D0': 1.0,\n",
       " 'F': 0,\n",
       " 'P': -1}"
      ]
     },
     "execution_count": 36,
     "metadata": {},
     "output_type": "execute_result"
    }
   ],
   "source": [
    "keys = 'A+,A0,B+,B0,C+,C0,D+,D0,F,P'.split(',')\n",
    "vals = [4.5, 4.0, 3.5, 3.0, 2.5, 2.0, 1.5, 1.0, 0, -1]\n",
    "grade_map = dict(zip(keys, vals))\n",
    "grade_map"
   ]
  },
  {
   "cell_type": "code",
   "execution_count": 37,
   "metadata": {},
   "outputs": [
    {
     "data": {
      "text/plain": [
       "['', 'abc', 'def', '']"
      ]
     },
     "execution_count": 37,
     "metadata": {},
     "output_type": "execute_result"
    }
   ],
   "source": [
    "'''\n",
    "abc\n",
    "def\n",
    "'''.split('\\n')"
   ]
  },
  {
   "cell_type": "code",
   "execution_count": 39,
   "metadata": {},
   "outputs": [
    {
     "name": "stdout",
     "output_type": "stream",
     "text": [
      "3.284483\n"
     ]
    }
   ],
   "source": [
    "cum_size, cum_score = 0.0, 0.0\n",
    "for line in scores.split('\\n'):\n",
    "    if line == '':              # line: InternetProgramming 3.0 B0\n",
    "        continue\n",
    "    size = float(line.split()[1])\n",
    "    grade = line.split()[2]\n",
    "    if (grade == 'P'):          # 학점이 P인 과목은 계산에서 제외\n",
    "        continue\n",
    "    cum_size += size\n",
    "    cum_score += grade_map[grade] * size\n",
    "\n",
    "print(round(cum_score / cum_size, 6))"
   ]
  },
  {
   "cell_type": "code",
   "execution_count": null,
   "metadata": {},
   "outputs": [],
   "source": []
  }
 ],
 "metadata": {
  "kernelspec": {
   "display_name": "base",
   "language": "python",
   "name": "python3"
  },
  "language_info": {
   "codemirror_mode": {
    "name": "ipython",
    "version": 3
   },
   "file_extension": ".py",
   "mimetype": "text/x-python",
   "name": "python",
   "nbconvert_exporter": "python",
   "pygments_lexer": "ipython3",
   "version": "3.10.10"
  },
  "orig_nbformat": 4
 },
 "nbformat": 4,
 "nbformat_minor": 2
}
